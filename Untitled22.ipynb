{
  "nbformat": 4,
  "nbformat_minor": 0,
  "metadata": {
    "colab": {
      "provenance": []
    },
    "kernelspec": {
      "name": "python3",
      "display_name": "Python 3"
    },
    "language_info": {
      "name": "python"
    }
  },
  "cells": [
    {
      "cell_type": "code",
      "execution_count": 1,
      "metadata": {
        "colab": {
          "base_uri": "https://localhost:8080/"
        },
        "id": "tO7wq_EWeQwM",
        "outputId": "d7031553-eb08-4978-995f-59ad24e2b883"
      },
      "outputs": [
        {
          "output_type": "stream",
          "name": "stdout",
          "text": [
            "Cloning into 'vits'...\n",
            "remote: Enumerating objects: 81, done.\u001b[K\n",
            "remote: Total 81 (delta 0), reused 0 (delta 0), pack-reused 81 (from 1)\u001b[K\n",
            "Receiving objects: 100% (81/81), 3.33 MiB | 12.55 MiB/s, done.\n",
            "Resolving deltas: 100% (22/22), done.\n",
            "/content/vits\n",
            "Collecting Cython==0.29.21 (from -r requirements.txt (line 1))\n",
            "  Downloading Cython-0.29.21-py2.py3-none-any.whl.metadata (2.6 kB)\n",
            "Collecting librosa==0.8.0 (from -r requirements.txt (line 2))\n",
            "  Downloading librosa-0.8.0.tar.gz (183 kB)\n",
            "\u001b[2K     \u001b[90m━━━━━━━━━━━━━━━━━━━━━━━━━━━━━━━━━━━━━━━━\u001b[0m \u001b[32m183.9/183.9 kB\u001b[0m \u001b[31m2.8 MB/s\u001b[0m eta \u001b[36m0:00:00\u001b[0m\n",
            "\u001b[?25h  Preparing metadata (setup.py) ... \u001b[?25l\u001b[?25hdone\n",
            "Collecting matplotlib==3.3.1 (from -r requirements.txt (line 3))\n",
            "  Downloading matplotlib-3.3.1.tar.gz (38.8 MB)\n",
            "\u001b[2K     \u001b[90m━━━━━━━━━━━━━━━━━━━━━━━━━━━━━━━━━━━━━━━━\u001b[0m \u001b[32m38.8/38.8 MB\u001b[0m \u001b[31m17.6 MB/s\u001b[0m eta \u001b[36m0:00:00\u001b[0m\n",
            "\u001b[?25h  Preparing metadata (setup.py) ... \u001b[?25l\u001b[?25hdone\n",
            "Collecting numpy==1.18.5 (from -r requirements.txt (line 4))\n",
            "  Downloading numpy-1.18.5.zip (5.4 MB)\n",
            "\u001b[2K     \u001b[90m━━━━━━━━━━━━━━━━━━━━━━━━━━━━━━━━━━━━━━━━\u001b[0m \u001b[32m5.4/5.4 MB\u001b[0m \u001b[31m39.9 MB/s\u001b[0m eta \u001b[36m0:00:00\u001b[0m\n",
            "\u001b[?25h  Installing build dependencies ... \u001b[?25l\u001b[?25hdone\n",
            "  Getting requirements to build wheel ... \u001b[?25l\u001b[?25hdone\n",
            "  \u001b[1;31merror\u001b[0m: \u001b[1msubprocess-exited-with-error\u001b[0m\n",
            "  \n",
            "  \u001b[31m×\u001b[0m \u001b[32mPreparing metadata \u001b[0m\u001b[1;32m(\u001b[0m\u001b[32mpyproject.toml\u001b[0m\u001b[1;32m)\u001b[0m did not run successfully.\n",
            "  \u001b[31m│\u001b[0m exit code: \u001b[1;36m1\u001b[0m\n",
            "  \u001b[31m╰─>\u001b[0m See above for output.\n",
            "  \n",
            "  \u001b[1;35mnote\u001b[0m: This error originates from a subprocess, and is likely not a problem with pip.\n",
            "  Preparing metadata (pyproject.toml) ... \u001b[?25l\u001b[?25herror\n",
            "\u001b[1;31merror\u001b[0m: \u001b[1mmetadata-generation-failed\u001b[0m\n",
            "\n",
            "\u001b[31m×\u001b[0m Encountered error while generating package metadata.\n",
            "\u001b[31m╰─>\u001b[0m See above for output.\n",
            "\n",
            "\u001b[1;35mnote\u001b[0m: This is an issue with the package mentioned above, not pip.\n",
            "\u001b[1;36mhint\u001b[0m: See above for details.\n",
            "Requirement already satisfied: librosa in /usr/local/lib/python3.10/dist-packages (0.10.2.post1)\n",
            "Requirement already satisfied: soundfile in /usr/local/lib/python3.10/dist-packages (0.12.1)\n",
            "Collecting websockets\n",
            "  Downloading websockets-13.1-cp310-cp310-manylinux_2_5_x86_64.manylinux1_x86_64.manylinux_2_17_x86_64.manylinux2014_x86_64.whl.metadata (6.8 kB)\n",
            "Requirement already satisfied: audioread>=2.1.9 in /usr/local/lib/python3.10/dist-packages (from librosa) (3.0.1)\n",
            "Requirement already satisfied: numpy!=1.22.0,!=1.22.1,!=1.22.2,>=1.20.3 in /usr/local/lib/python3.10/dist-packages (from librosa) (1.26.4)\n",
            "Requirement already satisfied: scipy>=1.2.0 in /usr/local/lib/python3.10/dist-packages (from librosa) (1.13.1)\n",
            "Requirement already satisfied: scikit-learn>=0.20.0 in /usr/local/lib/python3.10/dist-packages (from librosa) (1.5.2)\n",
            "Requirement already satisfied: joblib>=0.14 in /usr/local/lib/python3.10/dist-packages (from librosa) (1.4.2)\n",
            "Requirement already satisfied: decorator>=4.3.0 in /usr/local/lib/python3.10/dist-packages (from librosa) (4.4.2)\n",
            "Requirement already satisfied: numba>=0.51.0 in /usr/local/lib/python3.10/dist-packages (from librosa) (0.60.0)\n",
            "Requirement already satisfied: pooch>=1.1 in /usr/local/lib/python3.10/dist-packages (from librosa) (1.8.2)\n",
            "Requirement already satisfied: soxr>=0.3.2 in /usr/local/lib/python3.10/dist-packages (from librosa) (0.5.0.post1)\n",
            "Requirement already satisfied: typing-extensions>=4.1.1 in /usr/local/lib/python3.10/dist-packages (from librosa) (4.12.2)\n",
            "Requirement already satisfied: lazy-loader>=0.1 in /usr/local/lib/python3.10/dist-packages (from librosa) (0.4)\n",
            "Requirement already satisfied: msgpack>=1.0 in /usr/local/lib/python3.10/dist-packages (from librosa) (1.1.0)\n",
            "Requirement already satisfied: cffi>=1.0 in /usr/local/lib/python3.10/dist-packages (from soundfile) (1.17.1)\n",
            "Requirement already satisfied: pycparser in /usr/local/lib/python3.10/dist-packages (from cffi>=1.0->soundfile) (2.22)\n",
            "Requirement already satisfied: packaging in /usr/local/lib/python3.10/dist-packages (from lazy-loader>=0.1->librosa) (24.1)\n",
            "Requirement already satisfied: llvmlite<0.44,>=0.43.0dev0 in /usr/local/lib/python3.10/dist-packages (from numba>=0.51.0->librosa) (0.43.0)\n",
            "Requirement already satisfied: platformdirs>=2.5.0 in /usr/local/lib/python3.10/dist-packages (from pooch>=1.1->librosa) (4.3.6)\n",
            "Requirement already satisfied: requests>=2.19.0 in /usr/local/lib/python3.10/dist-packages (from pooch>=1.1->librosa) (2.32.3)\n",
            "Requirement already satisfied: threadpoolctl>=3.1.0 in /usr/local/lib/python3.10/dist-packages (from scikit-learn>=0.20.0->librosa) (3.5.0)\n",
            "Requirement already satisfied: charset-normalizer<4,>=2 in /usr/local/lib/python3.10/dist-packages (from requests>=2.19.0->pooch>=1.1->librosa) (3.4.0)\n",
            "Requirement already satisfied: idna<4,>=2.5 in /usr/local/lib/python3.10/dist-packages (from requests>=2.19.0->pooch>=1.1->librosa) (3.10)\n",
            "Requirement already satisfied: urllib3<3,>=1.21.1 in /usr/local/lib/python3.10/dist-packages (from requests>=2.19.0->pooch>=1.1->librosa) (2.2.3)\n",
            "Requirement already satisfied: certifi>=2017.4.17 in /usr/local/lib/python3.10/dist-packages (from requests>=2.19.0->pooch>=1.1->librosa) (2024.8.30)\n",
            "Downloading websockets-13.1-cp310-cp310-manylinux_2_5_x86_64.manylinux1_x86_64.manylinux_2_17_x86_64.manylinux2014_x86_64.whl (164 kB)\n",
            "\u001b[2K   \u001b[90m━━━━━━━━━━━━━━━━━━━━━━━━━━━━━━━━━━━━━━━━\u001b[0m \u001b[32m164.1/164.1 kB\u001b[0m \u001b[31m3.0 MB/s\u001b[0m eta \u001b[36m0:00:00\u001b[0m\n",
            "\u001b[?25hInstalling collected packages: websockets\n",
            "Successfully installed websockets-13.1\n"
          ]
        }
      ],
      "source": [
        "# Clone the VITS repository\n",
        "!git clone https://github.com/jaywalnut310/vits.git\n",
        "%cd vits\n",
        "\n",
        "# Install required libraries\n",
        "!pip install -r requirements.txt\n",
        "!pip install librosa soundfile websockets\n"
      ]
    },
    {
      "cell_type": "code",
      "source": [
        "import os\n",
        "import librosa\n",
        "import soundfile as sf\n",
        "from sklearn.model_selection import train_test_split\n",
        "\n",
        "# Define paths\n",
        "audio_path = f'{data_dir}/audio'  # Original audio files location\n",
        "processed_audio_path = f'{data_dir}/processed_audio'\n",
        "os.makedirs(processed_audio_path, exist_ok=True)\n",
        "\n",
        "# Preprocess audio files (normalize and resample to 22050 Hz)\n",
        "for file_name in os.listdir(audio_path):\n",
        "    if file_name.endswith('.wav'):\n",
        "        file_path = os.path.join(audio_path, file_name)\n",
        "        audio, sr = librosa.load(file_path, sr=22050)\n",
        "        norm_audio = librosa.util.normalize(audio)\n",
        "        sf.write(os.path.join(processed_audio_path, file_name), norm_audio, sr)\n",
        "\n",
        "# Split into train, validation, and test sets (80/10/10 ratio)\n",
        "audio_files = sorted(os.listdir(processed_audio_path))\n",
        "train_files, test_files = train_test_split(audio_files, test_size=0.2, random_state=42)\n",
        "val_files, test_files = train_test_split(test_files, test_size=0.5, random_state=42)\n",
        "\n",
        "# Save file lists for train, val, and test sets\n",
        "def save_file_list(file_list, filename):\n",
        "    with open(filename, 'w') as f:\n",
        "        for file_name in file_list:\n",
        "            f.write(f\"{file_name}\\n\")\n",
        "\n",
        "save_file_list(train_files, f'{data_dir}/train_files.txt')\n",
        "save_file_list(val_files, f'{data_dir}/val_files.txt')\n",
        "save_file_list(test_files, f'{data_dir}/test_files.txt')\n"
      ],
      "metadata": {
        "id": "al8hquoyechz"
      },
      "execution_count": null,
      "outputs": []
    },
    {
      "cell_type": "code",
      "source": [
        "import json\n",
        "\n",
        "# Load configuration file\n",
        "config_path = './configs/config.json'\n",
        "with open(config_path, 'r') as f:\n",
        "    config = json.load(f)\n",
        "\n",
        "# Update dataset paths in configuration\n",
        "config['data']['training_files'] = f'{data_dir}/train_files.txt'\n",
        "config['data']['validation_files'] = f'{data_dir}/val_files.txt'\n",
        "config['data']['sampling_rate'] = 22050  # Ensure sampling rate matches preprocessing\n",
        "\n",
        "# Save updated config\n",
        "with open(config_path, 'w') as f:\n",
        "    json.dump(config, f, indent=4)\n"
      ],
      "metadata": {
        "id": "rG50qglJeck5"
      },
      "execution_count": null,
      "outputs": []
    },
    {
      "cell_type": "code",
      "source": [
        "# Train the model\n",
        "!python train.py -c ./configs/config.json -m my_non_hindi_model\n",
        "\n",
        "# Save checkpoints to Google Drive after certain intervals (e.g., every few hours)\n",
        "!cp -r logs/my_non_hindi_model {checkpoint_dir}\n"
      ],
      "metadata": {
        "id": "NPcaLyxuecni"
      },
      "execution_count": null,
      "outputs": []
    },
    {
      "cell_type": "code",
      "source": [
        "# Evaluate the model\n",
        "!python evaluate.py -c ./configs/config.json -m my_non_hindi_model --output_path ./output\n"
      ],
      "metadata": {
        "id": "nDRGSR8VecqO"
      },
      "execution_count": null,
      "outputs": []
    },
    {
      "cell_type": "code",
      "source": [
        "import websockets\n",
        "import asyncio\n",
        "import soundfile as sf\n",
        "from io import BytesIO\n",
        "\n",
        "async def process_audio(websocket, path):\n",
        "    async for message in websocket:\n",
        "        # Load WAV data from received message\n",
        "        wav_data = BytesIO(message)\n",
        "        audio, sr = sf.read(wav_data)\n",
        "\n",
        "        # Convert to FLAC\n",
        "        flac_data = BytesIO()\n",
        "        sf.write(flac_data, audio, sr, format='FLAC')\n",
        "        await websocket.send(flac_data.getvalue())\n",
        "\n",
        "# Run the WebSocket server (for local deployment)\n",
        "start_server = websockets.serve(process_audio, \"localhost\", 8765)\n",
        "\n",
        "asyncio.get_event_loop().run_until_complete(start_server)\n",
        "asyncio.get_event_loop().run_forever()\n"
      ],
      "metadata": {
        "id": "fnFJN4yTecs8"
      },
      "execution_count": null,
      "outputs": []
    },
    {
      "cell_type": "code",
      "source": [],
      "metadata": {
        "id": "PYZKSL6Pecvo"
      },
      "execution_count": null,
      "outputs": []
    },
    {
      "cell_type": "code",
      "source": [],
      "metadata": {
        "id": "8RwoD2qhecyA"
      },
      "execution_count": null,
      "outputs": []
    },
    {
      "cell_type": "code",
      "source": [],
      "metadata": {
        "id": "wX0h6Ha5ec1p"
      },
      "execution_count": null,
      "outputs": []
    }
  ]
}